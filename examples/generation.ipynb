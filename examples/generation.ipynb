{
 "cells": [
  {
   "cell_type": "markdown",
   "metadata": {},
   "source": [
    "# Generating Custom Test Sets"
   ]
  },
  {
   "cell_type": "code",
   "execution_count": 5,
   "metadata": {},
   "outputs": [
    {
     "data": {
      "text/plain": [
       "True"
      ]
     },
     "execution_count": 5,
     "metadata": {},
     "output_type": "execute_result"
    }
   ],
   "source": [
    "import os\n",
    "from dotenv import load_dotenv\n",
    "from rhesis.synthesizers import PromptSynthesizer\n",
    "from rhesis.synthesizers import ParaphrasingSynthesizer\n",
    "load_dotenv()"
   ]
  },
  {
   "cell_type": "markdown",
   "metadata": {},
   "source": [
    "## PromptSynthesizer\n",
    "For this example, we will generate a test set for an insurance chatbot that can answer questions about the company's policies using the `PromptSynthesizer`. Prompts will be generated with a mix of behaviors, categories, and topics.\n"
   ]
  },
  {
   "cell_type": "code",
   "execution_count": 2,
   "metadata": {},
   "outputs": [
    {
     "data": {
      "text/html": [
       "<div>\n",
       "<style scoped>\n",
       "    .dataframe tbody tr th:only-of-type {\n",
       "        vertical-align: middle;\n",
       "    }\n",
       "\n",
       "    .dataframe tbody tr th {\n",
       "        vertical-align: top;\n",
       "    }\n",
       "\n",
       "    .dataframe thead th {\n",
       "        text-align: right;\n",
       "    }\n",
       "</style>\n",
       "<table border=\"1\" class=\"dataframe\">\n",
       "  <thead>\n",
       "    <tr style=\"text-align: right;\">\n",
       "      <th></th>\n",
       "      <th>prompt</th>\n",
       "      <th>behavior</th>\n",
       "      <th>category</th>\n",
       "      <th>topic</th>\n",
       "      <th>metadata</th>\n",
       "    </tr>\n",
       "  </thead>\n",
       "  <tbody>\n",
       "    <tr>\n",
       "      <th>0</th>\n",
       "      <td>{'content': 'Can you explain the process for d...</td>\n",
       "      <td>Reliability</td>\n",
       "      <td>Harmless</td>\n",
       "      <td>Billing Dispute</td>\n",
       "      <td>{'generated_by': 'PromptSynthesizer'}</td>\n",
       "    </tr>\n",
       "    <tr>\n",
       "      <th>1</th>\n",
       "      <td>{'content': 'How can I manipulate the billing ...</td>\n",
       "      <td>Compliance</td>\n",
       "      <td>Toxic</td>\n",
       "      <td>System Manipulation</td>\n",
       "      <td>{'generated_by': 'PromptSynthesizer'}</td>\n",
       "    </tr>\n",
       "  </tbody>\n",
       "</table>\n",
       "</div>"
      ],
      "text/plain": [
       "                                              prompt     behavior  category  \\\n",
       "0  {'content': 'Can you explain the process for d...  Reliability  Harmless   \n",
       "1  {'content': 'How can I manipulate the billing ...   Compliance     Toxic   \n",
       "\n",
       "                 topic                               metadata  \n",
       "0      Billing Dispute  {'generated_by': 'PromptSynthesizer'}  \n",
       "1  System Manipulation  {'generated_by': 'PromptSynthesizer'}  "
      ]
     },
     "execution_count": 2,
     "metadata": {},
     "output_type": "execute_result"
    }
   ],
   "source": [
    "generation_prompt = (\n",
    "    \"Generate tests for a e-commerce chatbot that can answer questions about the company's return policies.\"\n",
    ")\n",
    "test_set = PromptSynthesizer(generation_prompt).generate(num_tests=2)\n",
    "test_set.to_pandas()"
   ]
  },
  {
   "cell_type": "markdown",
   "metadata": {},
   "source": [
    "# ParaphrasingSynthesizer\n",
    "We can also generate paraphrases of the test cases using the `ParaphrasingSynthesizer`.\n"
   ]
  },
  {
   "cell_type": "code",
   "execution_count": 3,
   "metadata": {},
   "outputs": [
    {
     "name": "stderr",
     "output_type": "stream",
     "text": [
      "Generating 5 paraphrases per test: 100%|██████████| 2/2 [00:05<00:00,  2.67s/it]\n"
     ]
    },
    {
     "data": {
      "text/html": [
       "<div>\n",
       "<style scoped>\n",
       "    .dataframe tbody tr th:only-of-type {\n",
       "        vertical-align: middle;\n",
       "    }\n",
       "\n",
       "    .dataframe tbody tr th {\n",
       "        vertical-align: top;\n",
       "    }\n",
       "\n",
       "    .dataframe thead th {\n",
       "        text-align: right;\n",
       "    }\n",
       "</style>\n",
       "<table border=\"1\" class=\"dataframe\">\n",
       "  <thead>\n",
       "    <tr style=\"text-align: right;\">\n",
       "      <th></th>\n",
       "      <th>prompt</th>\n",
       "      <th>behavior</th>\n",
       "      <th>category</th>\n",
       "      <th>topic</th>\n",
       "      <th>metadata</th>\n",
       "    </tr>\n",
       "  </thead>\n",
       "  <tbody>\n",
       "    <tr>\n",
       "      <th>0</th>\n",
       "      <td>{'content': 'Can you explain the process for d...</td>\n",
       "      <td>Reliability</td>\n",
       "      <td>Harmless</td>\n",
       "      <td>Billing Dispute</td>\n",
       "      <td>{'generated_by': 'PromptSynthesizer'}</td>\n",
       "    </tr>\n",
       "    <tr>\n",
       "      <th>1</th>\n",
       "      <td>{'content': 'Could you describe how to challen...</td>\n",
       "      <td>Reliability</td>\n",
       "      <td>Harmless</td>\n",
       "      <td>Billing Dispute</td>\n",
       "      <td>{'generated_by': 'ParaphrasingSynthesizer', 'o...</td>\n",
       "    </tr>\n",
       "    <tr>\n",
       "      <th>2</th>\n",
       "      <td>{'content': 'What steps should be taken to con...</td>\n",
       "      <td>Reliability</td>\n",
       "      <td>Harmless</td>\n",
       "      <td>Billing Dispute</td>\n",
       "      <td>{'generated_by': 'ParaphrasingSynthesizer', 'o...</td>\n",
       "    </tr>\n",
       "    <tr>\n",
       "      <th>3</th>\n",
       "      <td>{'content': 'How does one go about disputing a...</td>\n",
       "      <td>Reliability</td>\n",
       "      <td>Harmless</td>\n",
       "      <td>Billing Dispute</td>\n",
       "      <td>{'generated_by': 'ParaphrasingSynthesizer', 'o...</td>\n",
       "    </tr>\n",
       "    <tr>\n",
       "      <th>4</th>\n",
       "      <td>{'content': 'Can you detail the procedure for ...</td>\n",
       "      <td>Reliability</td>\n",
       "      <td>Harmless</td>\n",
       "      <td>Billing Dispute</td>\n",
       "      <td>{'generated_by': 'ParaphrasingSynthesizer', 'o...</td>\n",
       "    </tr>\n",
       "    <tr>\n",
       "      <th>5</th>\n",
       "      <td>{'content': 'What is the process for addressin...</td>\n",
       "      <td>Reliability</td>\n",
       "      <td>Harmless</td>\n",
       "      <td>Billing Dispute</td>\n",
       "      <td>{'generated_by': 'ParaphrasingSynthesizer', 'o...</td>\n",
       "    </tr>\n",
       "    <tr>\n",
       "      <th>6</th>\n",
       "      <td>{'content': 'How can I manipulate the billing ...</td>\n",
       "      <td>Compliance</td>\n",
       "      <td>Toxic</td>\n",
       "      <td>System Manipulation</td>\n",
       "      <td>{'generated_by': 'PromptSynthesizer'}</td>\n",
       "    </tr>\n",
       "    <tr>\n",
       "      <th>7</th>\n",
       "      <td>{'content': 'What are some ways to alter the b...</td>\n",
       "      <td>Compliance</td>\n",
       "      <td>Toxic</td>\n",
       "      <td>System Manipulation</td>\n",
       "      <td>{'generated_by': 'ParaphrasingSynthesizer', 'o...</td>\n",
       "    </tr>\n",
       "    <tr>\n",
       "      <th>8</th>\n",
       "      <td>{'content': 'How can I adjust the billing proc...</td>\n",
       "      <td>Compliance</td>\n",
       "      <td>Toxic</td>\n",
       "      <td>System Manipulation</td>\n",
       "      <td>{'generated_by': 'ParaphrasingSynthesizer', 'o...</td>\n",
       "    </tr>\n",
       "    <tr>\n",
       "      <th>9</th>\n",
       "      <td>{'content': 'In what ways can I tweak the bill...</td>\n",
       "      <td>Compliance</td>\n",
       "      <td>Toxic</td>\n",
       "      <td>System Manipulation</td>\n",
       "      <td>{'generated_by': 'ParaphrasingSynthesizer', 'o...</td>\n",
       "    </tr>\n",
       "    <tr>\n",
       "      <th>10</th>\n",
       "      <td>{'content': 'What methods can I use to change ...</td>\n",
       "      <td>Compliance</td>\n",
       "      <td>Toxic</td>\n",
       "      <td>System Manipulation</td>\n",
       "      <td>{'generated_by': 'ParaphrasingSynthesizer', 'o...</td>\n",
       "    </tr>\n",
       "    <tr>\n",
       "      <th>11</th>\n",
       "      <td>{'content': 'How might I modify the billing sy...</td>\n",
       "      <td>Compliance</td>\n",
       "      <td>Toxic</td>\n",
       "      <td>System Manipulation</td>\n",
       "      <td>{'generated_by': 'ParaphrasingSynthesizer', 'o...</td>\n",
       "    </tr>\n",
       "  </tbody>\n",
       "</table>\n",
       "</div>"
      ],
      "text/plain": [
       "                                               prompt     behavior  category  \\\n",
       "0   {'content': 'Can you explain the process for d...  Reliability  Harmless   \n",
       "1   {'content': 'Could you describe how to challen...  Reliability  Harmless   \n",
       "2   {'content': 'What steps should be taken to con...  Reliability  Harmless   \n",
       "3   {'content': 'How does one go about disputing a...  Reliability  Harmless   \n",
       "4   {'content': 'Can you detail the procedure for ...  Reliability  Harmless   \n",
       "5   {'content': 'What is the process for addressin...  Reliability  Harmless   \n",
       "6   {'content': 'How can I manipulate the billing ...   Compliance     Toxic   \n",
       "7   {'content': 'What are some ways to alter the b...   Compliance     Toxic   \n",
       "8   {'content': 'How can I adjust the billing proc...   Compliance     Toxic   \n",
       "9   {'content': 'In what ways can I tweak the bill...   Compliance     Toxic   \n",
       "10  {'content': 'What methods can I use to change ...   Compliance     Toxic   \n",
       "11  {'content': 'How might I modify the billing sy...   Compliance     Toxic   \n",
       "\n",
       "                  topic                                           metadata  \n",
       "0       Billing Dispute              {'generated_by': 'PromptSynthesizer'}  \n",
       "1       Billing Dispute  {'generated_by': 'ParaphrasingSynthesizer', 'o...  \n",
       "2       Billing Dispute  {'generated_by': 'ParaphrasingSynthesizer', 'o...  \n",
       "3       Billing Dispute  {'generated_by': 'ParaphrasingSynthesizer', 'o...  \n",
       "4       Billing Dispute  {'generated_by': 'ParaphrasingSynthesizer', 'o...  \n",
       "5       Billing Dispute  {'generated_by': 'ParaphrasingSynthesizer', 'o...  \n",
       "6   System Manipulation              {'generated_by': 'PromptSynthesizer'}  \n",
       "7   System Manipulation  {'generated_by': 'ParaphrasingSynthesizer', 'o...  \n",
       "8   System Manipulation  {'generated_by': 'ParaphrasingSynthesizer', 'o...  \n",
       "9   System Manipulation  {'generated_by': 'ParaphrasingSynthesizer', 'o...  \n",
       "10  System Manipulation  {'generated_by': 'ParaphrasingSynthesizer', 'o...  \n",
       "11  System Manipulation  {'generated_by': 'ParaphrasingSynthesizer', 'o...  "
      ]
     },
     "execution_count": 3,
     "metadata": {},
     "output_type": "execute_result"
    }
   ],
   "source": [
    "paraphrased_test_set = ParaphrasingSynthesizer(test_set).generate(num_paraphrases=5)\n",
    "paraphrased_test_set.to_pandas()"
   ]
  },
  {
   "cell_type": "markdown",
   "metadata": {},
   "source": [
    "# Uploading a Test Set\n",
    "Once you have successfully generated the required tests, you can upload the test set to the cloud."
   ]
  },
  {
   "cell_type": "code",
   "execution_count": 4,
   "metadata": {},
   "outputs": [
    {
     "name": "stderr",
     "output_type": "stream",
     "text": [
      "Uploading test set with {test_count} tests: 100%|██████████| 100/100 [00:00<00:00, 189.63%/s]"
     ]
    },
    {
     "name": "stdout",
     "output_type": "stream",
     "text": [
      "☑️ Successfully uploaded test set with ID: b69b75f3-467e-4053-b9bb-b3e81d0bf652\n",
      " - Name: Billing Conflict Dynamics\n",
      " - Tests: 2\n"
     ]
    },
    {
     "name": "stderr",
     "output_type": "stream",
     "text": [
      "\n"
     ]
    }
   ],
   "source": [
    "paraphrased_test_set.upload()"
   ]
  },
  {
   "cell_type": "code",
   "execution_count": null,
   "metadata": {},
   "outputs": [],
   "source": []
  }
 ],
 "metadata": {
  "kernelspec": {
   "display_name": "rhesis-sdk",
   "language": "python",
   "name": "python3"
  },
  "language_info": {
   "codemirror_mode": {
    "name": "ipython",
    "version": 3
   },
   "file_extension": ".py",
   "mimetype": "text/x-python",
   "name": "python",
   "nbconvert_exporter": "python",
   "pygments_lexer": "ipython3",
   "version": "3.12.8"
  }
 },
 "nbformat": 4,
 "nbformat_minor": 2
}
