{
 "cells": [
  {
   "cell_type": "markdown",
   "metadata": {},
   "source": [
    "# Generating Custom Test Sets"
   ]
  },
  {
   "cell_type": "code",
   "execution_count": null,
   "metadata": {},
   "outputs": [],
   "source": [
    "import os\n",
    "from dotenv import load_dotenv\n",
    "from rhesis.synthesizers import PromptSynthesizer\n",
    "from rhesis.synthesizers import ParaphrasingSynthesizer\n",
    "load_dotenv()"
   ]
  },
  {
   "cell_type": "markdown",
   "metadata": {},
   "source": [
    "## PromptSynthesizer\n",
    "For this example, we will generate a test set for an insurance chatbot that can answer questions about the company's policies using the `PromptSynthesizer`. Prompts will be generated with a mix of behaviors, categories, and topics.\n"
   ]
  },
  {
   "cell_type": "code",
   "execution_count": null,
   "metadata": {},
   "outputs": [],
   "source": [
    "generation_prompt = (\n",
    "    \"Generate tests for an insurance chatbot that can answer questions about the company's policies.\"\n",
    ")\n",
    "test_set = PromptSynthesizer(generation_prompt).generate(num_tests=5)\n",
    "test_set.to_pandas()"
   ]
  },
  {
   "cell_type": "markdown",
   "metadata": {},
   "source": [
    "# ParaphrasingSynthesizer\n",
    "We can also generate paraphrases of the test cases using the `ParaphrasingSynthesizer`.\n"
   ]
  },
  {
   "cell_type": "code",
   "execution_count": null,
   "metadata": {},
   "outputs": [],
   "source": [
    "paraphrased_test_set = ParaphrasingSynthesizer(test_set).generate(num_paraphrases=5)\n",
    "paraphrased_test_set.to_pandas()"
   ]
  }
 ],
 "metadata": {
  "kernelspec": {
   "display_name": "rhesis-sdk",
   "language": "python",
   "name": "python3"
  },
  "language_info": {
   "codemirror_mode": {
    "name": "ipython",
    "version": 3
   },
   "file_extension": ".py",
   "mimetype": "text/x-python",
   "name": "python",
   "nbconvert_exporter": "python",
   "pygments_lexer": "ipython3",
   "version": "3.12.8"
  }
 },
 "nbformat": 4,
 "nbformat_minor": 2
}
