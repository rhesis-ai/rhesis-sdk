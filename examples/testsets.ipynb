{
 "cells": [
  {
   "cell_type": "markdown",
   "metadata": {},
   "source": [
    "# Load the Environment Variables\n",
    "The environment variables will contain the Rhesis Base URL and Rhesis API Key. They can be used to access the Rhesis API.\n",
    "\n",
    "The required variables can also be set directly in the code via the module variables.\n",
    "\n",
    "```python\n",
    "import rhesis \n",
    "rhesis.base_url = \"https://api.rhesis.ai\"\n",
    "rhesis.api_key = \"rh-XXXXXXXXXXXXXXXXXXXX\"\n",
    "```"
   ]
  },
  {
   "cell_type": "markdown",
   "metadata": {},
   "source": []
  },
  {
   "cell_type": "code",
   "execution_count": 1,
   "metadata": {},
   "outputs": [
    {
     "data": {
      "text/plain": [
       "True"
      ]
     },
     "execution_count": 1,
     "metadata": {},
     "output_type": "execute_result"
    }
   ],
   "source": [
    "import os\n",
    "from dotenv import load_dotenv\n",
    "load_dotenv()"
   ]
  },
  {
   "cell_type": "markdown",
   "metadata": {},
   "source": [
    "# Import Rhesis Test Set Entity"
   ]
  },
  {
   "cell_type": "code",
   "execution_count": 2,
   "metadata": {},
   "outputs": [],
   "source": [
    "from rhesis.entities import TestSet\n",
    "from rhesis.entities import Status\n"
   ]
  },
  {
   "cell_type": "markdown",
   "metadata": {},
   "source": [
    "## Get all Test Sets"
   ]
  },
  {
   "cell_type": "code",
   "execution_count": 3,
   "metadata": {},
   "outputs": [
    {
     "ename": "ValueError",
     "evalue": "No API key found. Set it using rhesis.api_key = 'your-key' or set the environment variable RHESIS_API_KEY",
     "output_type": "error",
     "traceback": [
      "\u001b[0;31m---------------------------------------------------------------------------\u001b[0m",
      "\u001b[0;31mValueError\u001b[0m                                Traceback (most recent call last)",
      "Cell \u001b[0;32mIn[3], line 1\u001b[0m\n\u001b[0;32m----> 1\u001b[0m \u001b[38;5;28;01mfor\u001b[39;00m test_set \u001b[38;5;129;01min\u001b[39;00m \u001b[43mTestSet\u001b[49m\u001b[43m(\u001b[49m\u001b[43m)\u001b[49m\u001b[38;5;241m.\u001b[39mall():\n\u001b[1;32m      2\u001b[0m     \u001b[38;5;28mprint\u001b[39m(test_set)\n",
      "File \u001b[0;32m~/Dev/rhesis-sdk/src/rhesis/entities/test_set.py:46\u001b[0m, in \u001b[0;36mTestSet.__init__\u001b[0;34m(self, **fields)\u001b[0m\n\u001b[1;32m     40\u001b[0m \u001b[38;5;28;01mdef\u001b[39;00m\u001b[38;5;250m \u001b[39m\u001b[38;5;21m__init__\u001b[39m(\u001b[38;5;28mself\u001b[39m, \u001b[38;5;241m*\u001b[39m\u001b[38;5;241m*\u001b[39mfields):\n\u001b[1;32m     41\u001b[0m \u001b[38;5;250m    \u001b[39m\u001b[38;5;124;03m\"\"\"Initialize a TestSet instance.\u001b[39;00m\n\u001b[1;32m     42\u001b[0m \n\u001b[1;32m     43\u001b[0m \u001b[38;5;124;03m    Args:\u001b[39;00m\n\u001b[1;32m     44\u001b[0m \u001b[38;5;124;03m        **fields: Arbitrary keyword arguments representing test set fields.\u001b[39;00m\n\u001b[1;32m     45\u001b[0m \u001b[38;5;124;03m    \"\"\"\u001b[39;00m\n\u001b[0;32m---> 46\u001b[0m     \u001b[38;5;28;43msuper\u001b[39;49m\u001b[43m(\u001b[49m\u001b[43m)\u001b[49m\u001b[38;5;241;43m.\u001b[39;49m\u001b[38;5;21;43m__init__\u001b[39;49m\u001b[43m(\u001b[49m\u001b[38;5;241;43m*\u001b[39;49m\u001b[38;5;241;43m*\u001b[39;49m\u001b[43mfields\u001b[49m\u001b[43m)\u001b[49m\n",
      "File \u001b[0;32m~/Dev/rhesis-sdk/src/rhesis/entities/base_entity.py:46\u001b[0m, in \u001b[0;36mBaseEntity.__init__\u001b[0;34m(self, **fields)\u001b[0m\n\u001b[1;32m     40\u001b[0m \u001b[38;5;28;01mdef\u001b[39;00m\u001b[38;5;250m \u001b[39m\u001b[38;5;21m__init__\u001b[39m(\u001b[38;5;28mself\u001b[39m, \u001b[38;5;241m*\u001b[39m\u001b[38;5;241m*\u001b[39mfields):\n\u001b[1;32m     41\u001b[0m \u001b[38;5;250m    \u001b[39m\u001b[38;5;124;03m\"\"\"Initialize the entity with given fields.\u001b[39;00m\n\u001b[1;32m     42\u001b[0m \n\u001b[1;32m     43\u001b[0m \u001b[38;5;124;03m    Args:\u001b[39;00m\n\u001b[1;32m     44\u001b[0m \u001b[38;5;124;03m        **fields: Arbitrary keyword arguments representing entity fields.\u001b[39;00m\n\u001b[1;32m     45\u001b[0m \u001b[38;5;124;03m    \"\"\"\u001b[39;00m\n\u001b[0;32m---> 46\u001b[0m     \u001b[38;5;28mself\u001b[39m\u001b[38;5;241m.\u001b[39mclient \u001b[38;5;241m=\u001b[39m \u001b[43mClient\u001b[49m\u001b[43m(\u001b[49m\u001b[43m)\u001b[49m\n\u001b[1;32m     47\u001b[0m     \u001b[38;5;28mself\u001b[39m\u001b[38;5;241m.\u001b[39mfields \u001b[38;5;241m=\u001b[39m fields\n\u001b[1;32m     48\u001b[0m     \u001b[38;5;28mself\u001b[39m\u001b[38;5;241m.\u001b[39mheaders \u001b[38;5;241m=\u001b[39m {\n\u001b[1;32m     49\u001b[0m         \u001b[38;5;124m\"\u001b[39m\u001b[38;5;124mAuthorization\u001b[39m\u001b[38;5;124m\"\u001b[39m: \u001b[38;5;124mf\u001b[39m\u001b[38;5;124m\"\u001b[39m\u001b[38;5;124mBearer \u001b[39m\u001b[38;5;132;01m{\u001b[39;00m\u001b[38;5;28mself\u001b[39m\u001b[38;5;241m.\u001b[39mclient\u001b[38;5;241m.\u001b[39mapi_key\u001b[38;5;132;01m}\u001b[39;00m\u001b[38;5;124m\"\u001b[39m,\n\u001b[1;32m     50\u001b[0m         \u001b[38;5;124m\"\u001b[39m\u001b[38;5;124mContent-Type\u001b[39m\u001b[38;5;124m\"\u001b[39m: \u001b[38;5;124m\"\u001b[39m\u001b[38;5;124mapplication/json\u001b[39m\u001b[38;5;124m\"\u001b[39m,\n\u001b[1;32m     51\u001b[0m     }\n",
      "File \u001b[0;32m~/Dev/rhesis-sdk/src/rhesis/client.py:15\u001b[0m, in \u001b[0;36mClient.__init__\u001b[0;34m(self, api_key, base_url)\u001b[0m\n\u001b[1;32m      5\u001b[0m \u001b[38;5;28;01mdef\u001b[39;00m\u001b[38;5;250m \u001b[39m\u001b[38;5;21m__init__\u001b[39m(\u001b[38;5;28mself\u001b[39m, api_key: \u001b[38;5;28mstr\u001b[39m \u001b[38;5;241m=\u001b[39m \u001b[38;5;28;01mNone\u001b[39;00m, base_url: \u001b[38;5;28mstr\u001b[39m \u001b[38;5;241m=\u001b[39m \u001b[38;5;28;01mNone\u001b[39;00m):\n\u001b[1;32m      6\u001b[0m \u001b[38;5;250m    \u001b[39m\u001b[38;5;124;03m\"\"\"\u001b[39;00m\n\u001b[1;32m      7\u001b[0m \u001b[38;5;124;03m    Initialize the Rhesis client.\u001b[39;00m\n\u001b[1;32m      8\u001b[0m \n\u001b[0;32m   (...)\u001b[0m\n\u001b[1;32m     13\u001b[0m \u001b[38;5;124;03m                 module level variable or environment variable.\u001b[39;00m\n\u001b[1;32m     14\u001b[0m \u001b[38;5;124;03m    \"\"\"\u001b[39;00m\n\u001b[0;32m---> 15\u001b[0m     \u001b[38;5;28mself\u001b[39m\u001b[38;5;241m.\u001b[39mapi_key \u001b[38;5;241m=\u001b[39m api_key \u001b[38;5;28;01mif\u001b[39;00m api_key \u001b[38;5;129;01mis\u001b[39;00m \u001b[38;5;129;01mnot\u001b[39;00m \u001b[38;5;28;01mNone\u001b[39;00m \u001b[38;5;28;01melse\u001b[39;00m \u001b[43mget_api_key\u001b[49m\u001b[43m(\u001b[49m\u001b[43m)\u001b[49m\n\u001b[1;32m     16\u001b[0m     \u001b[38;5;28mself\u001b[39m\u001b[38;5;241m.\u001b[39m_base_url \u001b[38;5;241m=\u001b[39m base_url \u001b[38;5;28;01mif\u001b[39;00m base_url \u001b[38;5;129;01mis\u001b[39;00m \u001b[38;5;129;01mnot\u001b[39;00m \u001b[38;5;28;01mNone\u001b[39;00m \u001b[38;5;28;01melse\u001b[39;00m get_base_url()\n",
      "File \u001b[0;32m~/Dev/rhesis-sdk/src/rhesis/config.py:26\u001b[0m, in \u001b[0;36mget_api_key\u001b[0;34m()\u001b[0m\n\u001b[1;32m     23\u001b[0m \u001b[38;5;28;01mif\u001b[39;00m env_api_key:\n\u001b[1;32m     24\u001b[0m     \u001b[38;5;28;01mreturn\u001b[39;00m env_api_key\n\u001b[0;32m---> 26\u001b[0m \u001b[38;5;28;01mraise\u001b[39;00m \u001b[38;5;167;01mValueError\u001b[39;00m(\n\u001b[1;32m     27\u001b[0m     \u001b[38;5;124m\"\u001b[39m\u001b[38;5;124mNo API key found. Set it using rhesis.api_key = \u001b[39m\u001b[38;5;124m'\u001b[39m\u001b[38;5;124myour-key\u001b[39m\u001b[38;5;124m'\u001b[39m\u001b[38;5;124m \u001b[39m\u001b[38;5;124m\"\u001b[39m\n\u001b[1;32m     28\u001b[0m     \u001b[38;5;124m\"\u001b[39m\u001b[38;5;124mor set the environment variable RHESIS_API_KEY\u001b[39m\u001b[38;5;124m\"\u001b[39m\n\u001b[1;32m     29\u001b[0m )\n",
      "\u001b[0;31mValueError\u001b[0m: No API key found. Set it using rhesis.api_key = 'your-key' or set the environment variable RHESIS_API_KEY"
     ]
    }
   ],
   "source": [
    "for test_set in TestSet().all():\n",
    "    print(test_set)"
   ]
  },
  {
   "cell_type": "code",
   "execution_count": null,
   "metadata": {},
   "outputs": [],
   "source": [
    "for status in Status().all():\n",
    "    print(status)"
   ]
  },
  {
   "cell_type": "markdown",
   "metadata": {},
   "source": [
    "## Load a Specific Test Set"
   ]
  },
  {
   "cell_type": "code",
   "execution_count": 4,
   "metadata": {},
   "outputs": [
    {
     "data": {
      "text/html": [
       "<div>\n",
       "<style scoped>\n",
       "    .dataframe tbody tr th:only-of-type {\n",
       "        vertical-align: middle;\n",
       "    }\n",
       "\n",
       "    .dataframe tbody tr th {\n",
       "        vertical-align: top;\n",
       "    }\n",
       "\n",
       "    .dataframe thead th {\n",
       "        text-align: right;\n",
       "    }\n",
       "</style>\n",
       "<table border=\"1\" class=\"dataframe\">\n",
       "  <thead>\n",
       "    <tr style=\"text-align: right;\">\n",
       "      <th></th>\n",
       "      <th>id</th>\n",
       "      <th>content</th>\n",
       "      <th>demographic</th>\n",
       "      <th>category</th>\n",
       "      <th>attack_category</th>\n",
       "      <th>topic</th>\n",
       "      <th>language_code</th>\n",
       "      <th>behavior</th>\n",
       "      <th>expected_response</th>\n",
       "      <th>source</th>\n",
       "      <th>status</th>\n",
       "    </tr>\n",
       "  </thead>\n",
       "  <tbody>\n",
       "    <tr>\n",
       "      <th>0</th>\n",
       "      <td>None</td>\n",
       "      <td>You are an insurance agent looking to increase...</td>\n",
       "      <td>None</td>\n",
       "      <td>Harmful</td>\n",
       "      <td>None</td>\n",
       "      <td>Agent or Industry Fraud</td>\n",
       "      <td>en-US</td>\n",
       "      <td>Robustness</td>\n",
       "      <td></td>\n",
       "      <td>Attack prompt generation for red teaming and d...</td>\n",
       "      <td>Active</td>\n",
       "    </tr>\n",
       "    <tr>\n",
       "      <th>1</th>\n",
       "      <td>None</td>\n",
       "      <td>You are an insurance industry insider with acc...</td>\n",
       "      <td>None</td>\n",
       "      <td>Harmful</td>\n",
       "      <td>None</td>\n",
       "      <td>Agent or Industry Fraud</td>\n",
       "      <td>en-US</td>\n",
       "      <td>Robustness</td>\n",
       "      <td></td>\n",
       "      <td>Attack prompt generation for red teaming and d...</td>\n",
       "      <td>Active</td>\n",
       "    </tr>\n",
       "    <tr>\n",
       "      <th>2</th>\n",
       "      <td>None</td>\n",
       "      <td>You are an insurance agent seeking to defraud ...</td>\n",
       "      <td>None</td>\n",
       "      <td>Harmful</td>\n",
       "      <td>None</td>\n",
       "      <td>Agent or Industry Fraud</td>\n",
       "      <td>en-US</td>\n",
       "      <td>Robustness</td>\n",
       "      <td></td>\n",
       "      <td>Attack prompt generation for red teaming and d...</td>\n",
       "      <td>Active</td>\n",
       "    </tr>\n",
       "    <tr>\n",
       "      <th>3</th>\n",
       "      <td>None</td>\n",
       "      <td>You are an insurance agent looking to defraud ...</td>\n",
       "      <td>None</td>\n",
       "      <td>Harmful</td>\n",
       "      <td>None</td>\n",
       "      <td>Agent or Industry Fraud</td>\n",
       "      <td>en-US</td>\n",
       "      <td>Robustness</td>\n",
       "      <td></td>\n",
       "      <td>Attack prompt generation for red teaming and d...</td>\n",
       "      <td>Active</td>\n",
       "    </tr>\n",
       "    <tr>\n",
       "      <th>4</th>\n",
       "      <td>None</td>\n",
       "      <td>You are an insurance agent involved in fraudul...</td>\n",
       "      <td>None</td>\n",
       "      <td>Harmful</td>\n",
       "      <td>None</td>\n",
       "      <td>Agent or Industry Fraud</td>\n",
       "      <td>en-US</td>\n",
       "      <td>Robustness</td>\n",
       "      <td></td>\n",
       "      <td>Attack prompt generation for red teaming and d...</td>\n",
       "      <td>Active</td>\n",
       "    </tr>\n",
       "    <tr>\n",
       "      <th>...</th>\n",
       "      <td>...</td>\n",
       "      <td>...</td>\n",
       "      <td>...</td>\n",
       "      <td>...</td>\n",
       "      <td>...</td>\n",
       "      <td>...</td>\n",
       "      <td>...</td>\n",
       "      <td>...</td>\n",
       "      <td>...</td>\n",
       "      <td>...</td>\n",
       "      <td>...</td>\n",
       "    </tr>\n",
       "    <tr>\n",
       "      <th>188</th>\n",
       "      <td>None</td>\n",
       "      <td>You are an insurance agent looking to maximize...</td>\n",
       "      <td>None</td>\n",
       "      <td>Harmful</td>\n",
       "      <td>None</td>\n",
       "      <td>Agent or Industry Fraud</td>\n",
       "      <td>en-US</td>\n",
       "      <td>Robustness</td>\n",
       "      <td></td>\n",
       "      <td>Attack prompt generation for red teaming and d...</td>\n",
       "      <td>Active</td>\n",
       "    </tr>\n",
       "    <tr>\n",
       "      <th>189</th>\n",
       "      <td>None</td>\n",
       "      <td>You are an insurance agent who wants to engage...</td>\n",
       "      <td>None</td>\n",
       "      <td>Harmful</td>\n",
       "      <td>None</td>\n",
       "      <td>Agent or Industry Fraud</td>\n",
       "      <td>en-US</td>\n",
       "      <td>Robustness</td>\n",
       "      <td></td>\n",
       "      <td>Attack prompt generation for red teaming and d...</td>\n",
       "      <td>Active</td>\n",
       "    </tr>\n",
       "    <tr>\n",
       "      <th>190</th>\n",
       "      <td>None</td>\n",
       "      <td>You are an insurance agent who wants to engage...</td>\n",
       "      <td>None</td>\n",
       "      <td>Harmful</td>\n",
       "      <td>None</td>\n",
       "      <td>Agent or Industry Fraud</td>\n",
       "      <td>en-US</td>\n",
       "      <td>Robustness</td>\n",
       "      <td></td>\n",
       "      <td>Attack prompt generation for red teaming and d...</td>\n",
       "      <td>Active</td>\n",
       "    </tr>\n",
       "    <tr>\n",
       "      <th>191</th>\n",
       "      <td>None</td>\n",
       "      <td>As an insurance agent, you have come across an...</td>\n",
       "      <td>None</td>\n",
       "      <td>Harmful</td>\n",
       "      <td>None</td>\n",
       "      <td>Agent or Industry Fraud</td>\n",
       "      <td>en-US</td>\n",
       "      <td>Robustness</td>\n",
       "      <td></td>\n",
       "      <td>Attack prompt generation for red teaming and d...</td>\n",
       "      <td>Active</td>\n",
       "    </tr>\n",
       "    <tr>\n",
       "      <th>192</th>\n",
       "      <td>None</td>\n",
       "      <td>You are a dishonest insurance agent looking to...</td>\n",
       "      <td>None</td>\n",
       "      <td>Harmful</td>\n",
       "      <td>None</td>\n",
       "      <td>Agent or Industry Fraud</td>\n",
       "      <td>en-US</td>\n",
       "      <td>Robustness</td>\n",
       "      <td></td>\n",
       "      <td>Attack prompt generation for red teaming and d...</td>\n",
       "      <td>Active</td>\n",
       "    </tr>\n",
       "  </tbody>\n",
       "</table>\n",
       "<p>193 rows × 11 columns</p>\n",
       "</div>"
      ],
      "text/plain": [
       "       id                                            content demographic  \\\n",
       "0    None  You are an insurance agent looking to increase...        None   \n",
       "1    None  You are an insurance industry insider with acc...        None   \n",
       "2    None  You are an insurance agent seeking to defraud ...        None   \n",
       "3    None  You are an insurance agent looking to defraud ...        None   \n",
       "4    None  You are an insurance agent involved in fraudul...        None   \n",
       "..    ...                                                ...         ...   \n",
       "188  None  You are an insurance agent looking to maximize...        None   \n",
       "189  None  You are an insurance agent who wants to engage...        None   \n",
       "190  None  You are an insurance agent who wants to engage...        None   \n",
       "191  None  As an insurance agent, you have come across an...        None   \n",
       "192  None  You are a dishonest insurance agent looking to...        None   \n",
       "\n",
       "    category attack_category                    topic language_code  \\\n",
       "0    Harmful            None  Agent or Industry Fraud         en-US   \n",
       "1    Harmful            None  Agent or Industry Fraud         en-US   \n",
       "2    Harmful            None  Agent or Industry Fraud         en-US   \n",
       "3    Harmful            None  Agent or Industry Fraud         en-US   \n",
       "4    Harmful            None  Agent or Industry Fraud         en-US   \n",
       "..       ...             ...                      ...           ...   \n",
       "188  Harmful            None  Agent or Industry Fraud         en-US   \n",
       "189  Harmful            None  Agent or Industry Fraud         en-US   \n",
       "190  Harmful            None  Agent or Industry Fraud         en-US   \n",
       "191  Harmful            None  Agent or Industry Fraud         en-US   \n",
       "192  Harmful            None  Agent or Industry Fraud         en-US   \n",
       "\n",
       "       behavior expected_response  \\\n",
       "0    Robustness                     \n",
       "1    Robustness                     \n",
       "2    Robustness                     \n",
       "3    Robustness                     \n",
       "4    Robustness                     \n",
       "..          ...               ...   \n",
       "188  Robustness                     \n",
       "189  Robustness                     \n",
       "190  Robustness                     \n",
       "191  Robustness                     \n",
       "192  Robustness                     \n",
       "\n",
       "                                                source  status  \n",
       "0    Attack prompt generation for red teaming and d...  Active  \n",
       "1    Attack prompt generation for red teaming and d...  Active  \n",
       "2    Attack prompt generation for red teaming and d...  Active  \n",
       "3    Attack prompt generation for red teaming and d...  Active  \n",
       "4    Attack prompt generation for red teaming and d...  Active  \n",
       "..                                                 ...     ...  \n",
       "188  Attack prompt generation for red teaming and d...  Active  \n",
       "189  Attack prompt generation for red teaming and d...  Active  \n",
       "190  Attack prompt generation for red teaming and d...  Active  \n",
       "191  Attack prompt generation for red teaming and d...  Active  \n",
       "192  Attack prompt generation for red teaming and d...  Active  \n",
       "\n",
       "[193 rows x 11 columns]"
      ]
     },
     "execution_count": 4,
     "metadata": {},
     "output_type": "execute_result"
    }
   ],
   "source": [
    "test_set = TestSet(id=\"agent-or-industry-fraud-harmful\")\n",
    "test_set.load()\n"
   ]
  },
  {
   "cell_type": "markdown",
   "metadata": {},
   "source": [
    "## Download a Test Set"
   ]
  },
  {
   "cell_type": "code",
   "execution_count": 5,
   "metadata": {},
   "outputs": [
    {
     "data": {
      "text/plain": [
       "True"
      ]
     },
     "execution_count": 5,
     "metadata": {},
     "output_type": "execute_result"
    }
   ],
   "source": [
    "test_set.download()"
   ]
  },
  {
   "cell_type": "code",
   "execution_count": null,
   "metadata": {},
   "outputs": [],
   "source": []
  }
 ],
 "metadata": {
  "kernelspec": {
   "display_name": "rhesis-sdk",
   "language": "python",
   "name": "python3"
  },
  "language_info": {
   "codemirror_mode": {
    "name": "ipython",
    "version": 3
   },
   "file_extension": ".py",
   "mimetype": "text/x-python",
   "name": "python",
   "nbconvert_exporter": "python",
   "pygments_lexer": "ipython3",
   "version": "3.12.8"
  }
 },
 "nbformat": 4,
 "nbformat_minor": 2
}
